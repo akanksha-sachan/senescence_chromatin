{
 "cells": [
  {
   "cell_type": "markdown",
   "metadata": {},
   "source": [
    "# Visualize all senescence scores\n"
   ]
  },
  {
   "cell_type": "markdown",
   "metadata": {},
   "source": [
    "## Create one adata with all senescence scores appended\n",
    "#### Can downsample cells in prol to match tam for visualization and statistics calculations"
   ]
  },
  {
   "cell_type": "code",
   "execution_count": null,
   "metadata": {},
   "outputs": [],
   "source": [
    "adata = sc.read_h5ad('/ix/djishnu/Akanksha/datasets/senescence_fibroblasts/mouse_fibro/MEFs_processed.h5ad')"
   ]
  },
  {
   "cell_type": "code",
   "execution_count": null,
   "metadata": {},
   "outputs": [],
   "source": [
    "adata"
   ]
  },
  {
   "cell_type": "code",
   "execution_count": null,
   "metadata": {},
   "outputs": [],
   "source": [
    "# read obs of adata_scored\n",
    "obs_scored = pd.read_csv('/ix/djishnu/Akanksha/datasets/senescence_fibroblasts/mouse_fibro/MEFs_DeepScence_scores.txt', sep = '\\t')\n",
    "display(obs_scored)\n"
   ]
  },
  {
   "cell_type": "code",
   "execution_count": null,
   "metadata": {},
   "outputs": [],
   "source": [
    "# add the ds and binary columns to adata.obs\n",
    "obs_scored = obs_scored.set_index('Unnamed: 0')  # this is the column with cell names\n",
    "adata.obs['ds'] = obs_scored['ds']\n",
    "adata.obs['binary'] = obs_scored['binary']\n"
   ]
  },
  {
   "cell_type": "code",
   "execution_count": null,
   "metadata": {},
   "outputs": [],
   "source": [
    "adata_tamxoifen = adata[adata.obs['Treatment'] == 'Tam']\n",
    "adata_control = adata[adata.obs['Treatment'] == 'Prol']\n"
   ]
  },
  {
   "cell_type": "code",
   "execution_count": null,
   "metadata": {},
   "outputs": [],
   "source": [
    "adata_tamxoifen"
   ]
  },
  {
   "cell_type": "code",
   "execution_count": null,
   "metadata": {},
   "outputs": [],
   "source": [
    "adata_control"
   ]
  },
  {
   "cell_type": "code",
   "execution_count": null,
   "metadata": {},
   "outputs": [],
   "source": [
    "sc.pl.umap(adata, color = ['Treatment','integrated_snn_res.0.4','ds', 'binary'], color_map = 'viridis')"
   ]
  },
  {
   "cell_type": "code",
   "execution_count": null,
   "metadata": {},
   "outputs": [],
   "source": [
    "\n",
    "sc.pl.umap(adata_tamxoifen, color = ['integrated_snn_res.0.4','ds', 'binary'], color_map = 'viridis', title = 'Tamoxifen treated')\n",
    "sc.pl.umap(adata_control, color = ['integrated_snn_res.0.4','ds', 'binary'], color_map = 'viridis', title = 'Proliferating control')\n"
   ]
  },
  {
   "cell_type": "markdown",
   "metadata": {},
   "source": [
    "#### Violin plot of deepscence scores per cell cluster"
   ]
  },
  {
   "cell_type": "code",
   "execution_count": null,
   "metadata": {},
   "outputs": [],
   "source": [
    "# violin plot of ds scores per cell cluster calculated seperately for treated and control cells\n",
    "sc.pl.violin(adata, keys = ['ds'], groupby = 'Treatment', rotation = 90)\n"
   ]
  },
  {
   "cell_type": "code",
   "execution_count": null,
   "metadata": {},
   "outputs": [],
   "source": [
    "import seaborn as sns\n",
    "import matplotlib.pyplot as plt\n",
    "from scipy import stats\n",
    "import numpy as np\n",
    "from statsmodels.stats.multitest import multipletests\n",
    "\n",
    "def add_stat_annotation(x1, x2, y, h, p_adj):\n",
    "    \"\"\"Add significance annotation to plot\"\"\"\n",
    "    plt.plot([x1, x1, x2, x2], [y, y+h, y+h, y], lw=1.5, c='black')\n",
    "    if p_adj < 0.001:\n",
    "        stars = '***'\n",
    "    elif p_adj < 0.01:\n",
    "        stars = '**'\n",
    "    elif p_adj < 0.05:\n",
    "        stars = '*'\n",
    "    else:\n",
    "        stars = 'ns'\n",
    "    plt.text((x1+x2)*.5, y+h, stars, ha='center', va='bottom')"
   ]
  },
  {
   "cell_type": "code",
   "execution_count": null,
   "metadata": {},
   "outputs": [],
   "source": [
    "# Get data for tamoxifen and proliferating cells\n",
    "tam_data = adata_tamxoifen.obs[['ds', 'integrated_snn_res.0.4']].assign(Treatment='Tam')\n",
    "prol_data = adata_control.obs[['ds', 'integrated_snn_res.0.4']].assign(Treatment='Prol')\n",
    "\n",
    "# Combine the data\n",
    "plot_data = pd.concat([tam_data, prol_data])"
   ]
  },
  {
   "cell_type": "code",
   "execution_count": null,
   "metadata": {},
   "outputs": [],
   "source": [
    "# Create the plot\n",
    "plt.figure(figsize=(15, 8))\n",
    "plt.subplots_adjust(top=0.85)\n",
    "\n",
    "# Create violin plot\n",
    "sns.violinplot(data=plot_data, \n",
    "              x='integrated_snn_res.0.4',  \n",
    "              y='ds',                   \n",
    "              hue='Treatment',             \n",
    "              split=True,\n",
    "              inner='quartile')\n",
    "\n",
    "# Prepare for statistical testing\n",
    "clusters = sorted(plot_data['integrated_snn_res.0.4'].unique())\n",
    "max_y = plot_data['ds'].max()\n",
    "min_y = plot_data['ds'].min()\n",
    "y_range = max_y - min_y\n",
    "spacing = y_range * 0.1\n",
    "\n",
    "# Collect all p-values first\n",
    "p_values = []\n",
    "cluster_pairs = []\n",
    "\n",
    "for cluster in clusters:\n",
    "    cluster_tam = tam_data[tam_data['integrated_snn_res.0.4'] == cluster]['ds']\n",
    "    cluster_prol = prol_data[prol_data['integrated_snn_res.0.4'] == cluster]['ds']\n",
    "    \n",
    "    # Perform t-test\n",
    "    stat, p_val = stats.ttest_ind(cluster_tam, cluster_prol)\n",
    "    p_values.append(p_val)\n",
    "    cluster_pairs.append((cluster_tam, cluster_prol))\n",
    "\n",
    "# Correct for multiple testing using Benjamini-Hochberg method\n",
    "rejected, p_adjusted, _, _ = multipletests(p_values, method='fdr_bh')\n",
    "\n",
    "# Add annotations with adjusted p-values\n",
    "for idx, (p_adj, cluster) in enumerate(zip(p_adjusted, clusters)):\n",
    "    y_pos = max_y + spacing * (1.2)\n",
    "    add_stat_annotation(idx-0.2, idx+0.2, y_pos, spacing*0.5, p_adj)\n",
    "\n",
    "# Customize the plot\n",
    "plt.title('DeepScence Scores by Cluster\\n(FDR-corrected p-values)', pad=50)\n",
    "plt.xlabel('Cluster')\n",
    "plt.ylabel('DeepScence Score')\n",
    "plt.xticks(rotation=0)\n",
    "\n",
    "# Adjust y-axis limits\n",
    "plt.ylim(min_y - (y_range * 0.1), max_y + (spacing * 3))\n",
    "\n",
    "# Add legend\n",
    "plt.legend(title='Treatment', bbox_to_anchor=(1.05, 1), loc='upper left')\n",
    "\n",
    "plt.tight_layout()\n",
    "plt.show()"
   ]
  },
  {
   "cell_type": "code",
   "execution_count": null,
   "metadata": {},
   "outputs": [],
   "source": [
    "# Create the plot\n",
    "plt.figure(figsize=(15, 8))\n",
    "plt.subplots_adjust(top=0.85)\n",
    "\n",
    "# Create violin plot - note removed split=True and adjusted x parameter\n",
    "sns.violinplot(data=plot_data, \n",
    "              x='integrated_snn_res.0.4',  \n",
    "              y='ds',                   \n",
    "              hue='Treatment',             \n",
    "              inner='quartile')\n",
    "\n",
    "# Prepare for statistical testing\n",
    "clusters = sorted(plot_data['integrated_snn_res.0.4'].unique())\n",
    "max_y = plot_data['ds'].max()\n",
    "min_y = plot_data['ds'].min()\n",
    "y_range = max_y - min_y\n",
    "spacing = y_range * 0.1\n",
    "\n",
    "# Collect all p-values first\n",
    "p_values = []\n",
    "cluster_pairs = []\n",
    "\n",
    "for idx, cluster in enumerate(clusters):\n",
    "    cluster_tam = tam_data[tam_data['integrated_snn_res.0.4'] == cluster]['ds']\n",
    "    cluster_prol = prol_data[prol_data['integrated_snn_res.0.4'] == cluster]['ds']\n",
    "    \n",
    "    # Perform t-test\n",
    "    stat, p_val = stats.ttest_ind(cluster_tam, cluster_prol)\n",
    "    p_values.append(p_val)\n",
    "    cluster_pairs.append((cluster_tam, cluster_prol))\n",
    "    \n",
    "    # Adjust x-coordinates for side-by-side violins\n",
    "    x1 = idx - 0.2  # Position of first violin in pair\n",
    "    x2 = idx + 0.2  # Position of second violin in pair\n",
    "    \n",
    "    # Add statistical annotation\n",
    "    y_pos = max_y + spacing * (1.2)\n",
    "    add_stat_annotation(x1, x2, y_pos, spacing*0.5, p_val)\n",
    "\n",
    "# Correct for multiple testing using Benjamini-Hochberg method\n",
    "rejected, p_adjusted, _, _ = multipletests(p_values, method='fdr_bh')\n",
    "\n",
    "# Customize the plot\n",
    "plt.title('DeepScence Scores by Cluster\\n(FDR-corrected p-values)', pad=50)\n",
    "plt.xlabel('Cluster')\n",
    "plt.ylabel('DeepScence Score')\n",
    "plt.xticks(rotation=0)\n",
    "\n",
    "# Adjust y-axis limits\n",
    "plt.ylim(min_y - (y_range * 0.1), max_y + (spacing * 3))\n",
    "\n",
    "# Add legend\n",
    "plt.legend(title='Treatment', bbox_to_anchor=(1.05, 1), loc='upper left')\n",
    "\n",
    "plt.tight_layout()\n",
    "plt.show()"
   ]
  },
  {
   "cell_type": "code",
   "execution_count": null,
   "metadata": {},
   "outputs": [],
   "source": [
    "# Calculate percentage of senescent cells per cluster for tamoxifen treated cells\n",
    "cluster_percentages_tam = (adata_tamxoifen.obs\n",
    "    .groupby('integrated_snn_res.0.4')\n",
    "    .agg({\n",
    "        'binary': ['count', 'sum']\n",
    "    })\n",
    ")\n",
    "cluster_percentages_tam['percent_senescent'] = (cluster_percentages_tam['binary']['sum'] / \n",
    "                                              cluster_percentages_tam['binary']['count'] * 100)\n",
    "\n",
    "# Calculate percentage of senescent cells per cluster for proliferating control cells\n",
    "cluster_percentages_prol = (adata_control.obs\n",
    "    .groupby('integrated_snn_res.0.4')\n",
    "    .agg({\n",
    "        'binary': ['count', 'sum']\n",
    "    })\n",
    ")\n",
    "cluster_percentages_prol['percent_senescent'] = (cluster_percentages_prol['binary']['sum'] / \n",
    "                                               cluster_percentages_prol['binary']['count'] * 100)\n",
    "\n",
    "# Display results\n",
    "print(\"Tamoxifen treated cells - % senescent cells per cluster:\")\n",
    "print(cluster_percentages_tam['percent_senescent'].round(2))\n",
    "print(\"\\nProliferating control cells - % senescent cells per cluster:\")\n",
    "print(cluster_percentages_prol['percent_senescent'].round(2))\n"
   ]
  },
  {
   "cell_type": "markdown",
   "metadata": {},
   "source": [
    "### Viz sen pathways from Aucell "
   ]
  },
  {
   "cell_type": "code",
   "execution_count": null,
   "metadata": {},
   "outputs": [],
   "source": [
    "sen_pathways = [\"SAUL_SEN_MAYO\", \"GOBP_REPLICATIVE_SENESCENCE\", \"REACTOME_DNA_DAMAGE_TELOMERE_STRESS_INDUCED_SENESCENCE\", \"REACTOME_FORMATION_OF_SENESCENCE_ASSOCIATED_HETEROCHROMATIN_FOCI_SAHF\"]\n",
    "adata.obs[sen_pathways] = adata.obsm[\"aucell_estimate\"][sen_pathways]"
   ]
  },
  {
   "cell_type": "code",
   "execution_count": null,
   "metadata": {},
   "outputs": [],
   "source": [
    "sc.pl.umap(\n",
    "    adata,\n",
    "    color=[\"Treatment\", \"integrated_snn_res.0.4\"] + sen_pathways,\n",
    "    frameon=False,\n",
    "    ncols=2,\n",
    "    wspace=0.3,\n",
    ")"
   ]
  },
  {
   "cell_type": "code",
   "execution_count": null,
   "metadata": {},
   "outputs": [],
   "source": [
    "sc.pl.umap(\n",
    "    adata_tamxoifen,\n",
    "    color=[\"integrated_snn_res.0.4\"] + sen_pathways,\n",
    "    frameon=False,\n",
    "    ncols=2,\n",
    "    wspace=0.3,\n",
    "    title=\"Tamoxifen treated\"\n",
    ")\n",
    "sc.pl.umap(\n",
    "    adata_control,\n",
    "    color=[\"integrated_snn_res.0.4\"] + sen_pathways,\n",
    "    frameon=False,\n",
    "    ncols=2,\n",
    "    wspace=0.3,\n",
    "    title=\"Proliferating control\"\n",
    ")"
   ]
  },
  {
   "cell_type": "markdown",
   "metadata": {},
   "source": [
    "#### Heatmaps of geneset scores/methods to get senescence transcriptomic signatures"
   ]
  },
  {
   "cell_type": "code",
   "execution_count": null,
   "metadata": {},
   "outputs": [],
   "source": [
    "# group adata obs by cell cluster (integrated_snn_res.0.4) and get mean value of scores of sen_pathways\n",
    "sen_tam_scores_mean = adata_tamxoifen.obs.groupby(\"integrated_snn_res.0.4\")[sen_pathways].mean()\n",
    "sen_prol_scores_mean = adata_control.obs.groupby(\"integrated_snn_res.0.4\")[sen_pathways].mean()\n",
    "display(sen_tam_scores_mean)\n",
    "display(sen_prol_scores_mean)\n",
    "\n"
   ]
  },
  {
   "cell_type": "code",
   "execution_count": null,
   "metadata": {},
   "outputs": [],
   "source": [
    "import seaborn as sns\n",
    "import matplotlib.pyplot as plt\n",
    "\n",
    "# Plot heatmap for tamoxifen treated cells\n",
    "plt.figure(figsize=(10, 10))\n",
    "sns.heatmap(sen_tam_scores_mean.T,\n",
    "            cmap='YlOrRd',  # Changed to YlOrRd colormap\n",
    "            annot=True,\n",
    "            fmt='.2f',\n",
    "            cbar_kws={'label': 'Score'},\n",
    "            xticklabels=True,\n",
    "            yticklabels=True,\n",
    "            vmin=0,  # Set minimum value for consistent scale\n",
    "            vmax=0.2)  # Set maximum value for consistent scale\n",
    "plt.title('Senescence Scores - Tamoxifen Treated')\n",
    "plt.xlabel('Cell Clusters')\n",
    "plt.ylabel('Senescence Pathways')\n",
    "plt.show()\n",
    "\n",
    "# Plot heatmap for proliferating control cells\n",
    "plt.figure(figsize=(10, 10))\n",
    "sns.heatmap(sen_prol_scores_mean.T,\n",
    "            cmap='YlOrRd',  # Changed to YlOrRd colormap\n",
    "            annot=True,\n",
    "            fmt='.2f',\n",
    "            cbar_kws={'label': 'Score'},\n",
    "            xticklabels=True,\n",
    "            yticklabels=True,\n",
    "            vmin=0,  # Set minimum value for consistent scale\n",
    "            vmax=0.2)  # Set maximum value for consistent scale\n",
    "plt.title('Senescence Scores - Proliferating Control')\n",
    "plt.xlabel('Cell Clusters')\n",
    "plt.ylabel('Senescence Pathways')\n",
    "plt.show()"
   ]
  },
  {
   "cell_type": "markdown",
   "metadata": {},
   "source": [
    "#### Violin plots to compare senescence scores between treated and control for geneset scores"
   ]
  },
  {
   "cell_type": "code",
   "execution_count": null,
   "metadata": {},
   "outputs": [],
   "source": [
    "import seaborn as sns\n",
    "import matplotlib.pyplot as plt\n",
    "from scipy import stats\n",
    "import numpy as np\n",
    "from statsmodels.stats.multitest import multipletests\n",
    "\n",
    "def add_stat_annotation(x1, x2, y, h, p_adj):\n",
    "    \"\"\"Add significance annotation to plot\"\"\"\n",
    "    plt.plot([x1, x1, x2, x2], [y, y+h, y+h, y], lw=1.5, c='black')\n",
    "    if p_adj < 0.001:\n",
    "        stars = '***'\n",
    "    elif p_adj < 0.01:\n",
    "        stars = '**'\n",
    "    elif p_adj < 0.05:\n",
    "        stars = '*'\n",
    "    else:\n",
    "        stars = 'ns'\n",
    "    plt.text((x1+x2)*.5, y+h, stars, ha='center', va='bottom')\n",
    "\n",
    "# Plot each pathway separately\n",
    "for pathway in sen_pathways:\n",
    "    # Get data for tamoxifen and proliferating cells\n",
    "    tam_data = adata_tamxoifen.obs[[pathway, 'integrated_snn_res.0.4']].assign(Treatment='Tam')\n",
    "    prol_data = adata_control.obs[[pathway, 'integrated_snn_res.0.4']].assign(Treatment='Prol')\n",
    "    \n",
    "    # Combine the data\n",
    "    plot_data = pd.concat([tam_data, prol_data])\n",
    "    \n",
    "    # Create the plot\n",
    "    plt.figure(figsize=(15, 8))\n",
    "    plt.subplots_adjust(top=0.85)\n",
    "    \n",
    "    # Create violin plot\n",
    "    sns.violinplot(data=plot_data, \n",
    "                  x='integrated_snn_res.0.4',  \n",
    "                  y=pathway,                   \n",
    "                  hue='Treatment',             \n",
    "                  split=True,\n",
    "                  inner='quartile')\n",
    "    \n",
    "    # Prepare for statistical testing\n",
    "    clusters = sorted(plot_data['integrated_snn_res.0.4'].unique())\n",
    "    max_y = plot_data[pathway].max()\n",
    "    min_y = plot_data[pathway].min()\n",
    "    y_range = max_y - min_y\n",
    "    spacing = y_range * 0.1\n",
    "    \n",
    "    # Collect all p-values first\n",
    "    p_values = []\n",
    "    cluster_pairs = []\n",
    "    \n",
    "    for cluster in clusters:\n",
    "        cluster_tam = tam_data[tam_data['integrated_snn_res.0.4'] == cluster][pathway]\n",
    "        cluster_prol = prol_data[prol_data['integrated_snn_res.0.4'] == cluster][pathway]\n",
    "        \n",
    "        # Perform t-test\n",
    "        stat, p_val = stats.ttest_ind(cluster_tam, cluster_prol)\n",
    "        p_values.append(p_val)\n",
    "        cluster_pairs.append((cluster_tam, cluster_prol))\n",
    "    \n",
    "    # Correct for multiple testing using Benjamini-Hochberg method\n",
    "    rejected, p_adjusted, _, _ = multipletests(p_values, method='fdr_bh')\n",
    "    \n",
    "    # Add annotations with adjusted p-values\n",
    "    for idx, (p_adj, cluster) in enumerate(zip(p_adjusted, clusters)):\n",
    "        y_pos = max_y + spacing * (1.2)\n",
    "        add_stat_annotation(idx-0.2, idx+0.2, y_pos, spacing*0.5, p_adj)\n",
    "    \n",
    "    # Customize the plot\n",
    "    plt.title(f'{pathway} Scores by Cluster\\n(FDR-corrected p-values)', pad=50)\n",
    "    plt.xlabel('Cluster')\n",
    "    plt.ylabel('Score')\n",
    "    plt.xticks(rotation=0)\n",
    "    \n",
    "    # Adjust y-axis limits\n",
    "    plt.ylim(min_y - (y_range * 0.1), max_y + (spacing * 3))\n",
    "    \n",
    "    # Add legend\n",
    "    plt.legend(title='Treatment', bbox_to_anchor=(1.05, 1), loc='upper left')\n",
    "    \n",
    "    plt.tight_layout()\n",
    "    plt.show()"
   ]
  },
  {
   "cell_type": "markdown",
   "metadata": {},
   "source": [
    "### SID scores"
   ]
  },
  {
   "cell_type": "code",
   "execution_count": null,
   "metadata": {},
   "outputs": [],
   "source": [
    "# load adata with SID\n",
    "adata_with_SID = sc.read('/ix/djishnu/Akanksha/datasets/senescence_fibroblasts/tamoxifen_with_SID.h5ad')\n",
    "adata_with_SID\n"
   ]
  },
  {
   "cell_type": "code",
   "execution_count": null,
   "metadata": {},
   "outputs": [],
   "source": [
    "# load pred_dict from pickle file\n",
    "import pickle\n",
    "with open('/ix/djishnu/Akanksha/datasets/senescence_fibroblasts/tam_SenCID_pred_dict.pkl', 'rb') as f:\n",
    "    pred_dict = pickle.load(f)\n",
    "pred_dict\n"
   ]
  },
  {
   "cell_type": "code",
   "execution_count": null,
   "metadata": {},
   "outputs": [],
   "source": [
    "markers = ['rec_SID1', 'rec_SID2', 'rec_SID3', 'rec_SID4', 'rec_SID5', 'rec_SID6']\n",
    "sc.pl.violin(adata_with_SID, keys = markers)"
   ]
  },
  {
   "cell_type": "code",
   "execution_count": null,
   "metadata": {},
   "outputs": [],
   "source": [
    "adata.obs['SID3_Score'] = pred_dict['SID3'].loc[adata.obs_names, 'SID_Score']\n",
    "# color bar should have min and max of the score values \n",
    "sc.pl.umap(adata, color = ['SID3_Score'], color_map = 'viridis', vmax = 0.5)\n"
   ]
  },
  {
   "cell_type": "code",
   "execution_count": null,
   "metadata": {},
   "outputs": [],
   "source": [
    "adata.obs['SID5_Score'] = pred_dict['SID5'].loc[adata.obs_names, 'SID_Score']\n",
    "# color bar should have min and max of the score values \n",
    "sc.pl.umap(adata, color = ['SID5_Score'], color_map = 'viridis')\n"
   ]
  },
  {
   "cell_type": "code",
   "execution_count": null,
   "metadata": {},
   "outputs": [],
   "source": [
    "adata.obs['SID1_Score'] = pred_dict['SID1'].loc[adata.obs_names, 'SID_Score']\n",
    "# color bar should have min and max of the score values \n",
    "sc.pl.umap(adata, color = ['SID1_Score'], color_map = 'viridis')\n"
   ]
  },
  {
   "cell_type": "code",
   "execution_count": null,
   "metadata": {},
   "outputs": [],
   "source": [
    "adata.obs['SID2_Score'] = pred_dict['SID2'].loc[adata.obs_names, 'SID_Score']\n",
    "# color bar should have min and max of the score values \n",
    "sc.pl.umap(adata, color = ['SID2_Score'], color_map = 'viridis')\n",
    "\n"
   ]
  },
  {
   "cell_type": "code",
   "execution_count": null,
   "metadata": {},
   "outputs": [],
   "source": [
    "adata.obs['SID4_Score'] = pred_dict['SID4'].loc[adata.obs_names, 'SID_Score']\n",
    "# color bar should have min and max of the score values \n",
    "sc.pl.umap(adata, color = ['SID4_Score'], color_map = 'viridis')\n"
   ]
  },
  {
   "cell_type": "code",
   "execution_count": null,
   "metadata": {},
   "outputs": [],
   "source": [
    "adata.obs['SID6_Score'] = pred_dict['SID6'].loc[adata.obs_names, 'SID_Score']\n",
    "# color bar should have min and max of the score values \n",
    "sc.pl.umap(adata, color = ['SID6_Score'], color_map = 'viridis')\n"
   ]
  },
  {
   "cell_type": "markdown",
   "metadata": {},
   "source": [
    "#### Heatmap of gene expression of custom gene list"
   ]
  },
  {
   "cell_type": "code",
   "execution_count": null,
   "metadata": {},
   "outputs": [],
   "source": [
    "# custom geneset from NIA (human fibroblasts)\n",
    "NIA_sen_genes = [\n",
    "    \"CKS2\",\n",
    "    \"CCNB1\",\n",
    "    \"PTTG1\", \n",
    "    \"QSOX1\",\n",
    "    \"PARP1\",\n",
    "    \"LBR\",\n",
    "    \"LMNB1\",\n",
    "    \"UQCR11\",\n",
    "    \"NDUFA1\", \n",
    "    \"NDUFA3\",\n",
    "    \"COX6B1\",\n",
    "    \"CST3\",\n",
    "    \"TGFB1\",\n",
    "    \"PALLD\",\n",
    "    \"CCND1\",\n",
    "    \"IGFBP7\",\n",
    "    \"SSRP1\",\n",
    "    \"ANP32B\",\n",
    "    \"PINK1\",\n",
    "    \"BCL2L2\"\n",
    "]\n",
    "# convert to mouse genes using gtf files of both species and ortholog information file\n",
    "ortholog_info = pd.read_csv('/ix/djishnu/Akanksha/datasets/gene_sets/human_mouse_1to1_orthologs.csv')\n",
    "ortholog_info\n"
   ]
  },
  {
   "cell_type": "code",
   "execution_count": null,
   "metadata": {},
   "outputs": [],
   "source": [
    "# search for the human genes in the ortholog df and return the mouse orthologs\n",
    "mouse_NIA_sen_genes = ortholog_info[ortholog_info['human'].isin(NIA_sen_genes)]['mouse'].tolist()\n",
    "display(mouse_NIA_sen_genes)\n",
    "\n",
    "# display the human genes not in the ortholog df\n",
    "human_NIA_sen_genes_not_in_ortholog = set(NIA_sen_genes) - set(ortholog_info['human'])\n",
    "display(human_NIA_sen_genes_not_in_ortholog)\n",
    "\n",
    "# append curated genes to the mouse_NIA_sen_genes list\n",
    "ortholog_genes_mouse = ['Anp32b','Palld', 'Pttg1']\n",
    "mouse_NIA_sen_genes = mouse_NIA_sen_genes + ortholog_genes_mouse\n",
    "display(mouse_NIA_sen_genes)\n",
    "\n"
   ]
  },
  {
   "cell_type": "code",
   "execution_count": null,
   "metadata": {},
   "outputs": [],
   "source": [
    "# scanpy heatmap of the mouse NIA senescence genes for both treated and control adata\n",
    "sc.pl.heatmap(adata_tamxoifen, var_names = mouse_NIA_sen_genes, groupby = 'integrated_snn_res.0.4', figsize = (10,10))\n",
    "sc.pl.heatmap(adata_control, var_names = mouse_NIA_sen_genes, groupby = 'integrated_snn_res.0.4', figsize = (10,10))\n"
   ]
  },
  {
   "cell_type": "code",
   "execution_count": null,
   "metadata": {},
   "outputs": [],
   "source": [
    "sc.pl.matrixplot(\n",
    "    adata_tamxoifen,\n",
    "    mouse_NIA_sen_genes,\n",
    "    \"integrated_snn_res.0.4\",\n",
    "    dendrogram=True,\n",
    "    cmap=\"Blues\",\n",
    "    standard_scale=\"var\",\n",
    "    colorbar_title=\"column scaled\\nexpression\",\n",
    "    title = \"Tamoxifen treated\"\n",
    "    #return_fig = True\n",
    ")\n",
    "#mp_tam.add_totals().style(edge_color='black').show()\n",
    "sc.pl.matrixplot(\n",
    "    adata_control,\n",
    "    mouse_NIA_sen_genes,\n",
    "    \"integrated_snn_res.0.4\",\n",
    "    dendrogram=True,\n",
    "    cmap=\"Blues\",\n",
    "    standard_scale=\"var\",\n",
    "    colorbar_title=\"column scaled\\nexpression\",\n",
    "    title = \"Proliferating control\"\n",
    "    #return_fig = True\n",
    ")\n",
    "#mp_prol.add_totals().style(edge_color='black').show()\n"
   ]
  },
  {
   "cell_type": "code",
   "execution_count": null,
   "metadata": {},
   "outputs": [],
   "source": [
    "# plot matrix plot for all cells\n",
    "sc.pl.matrixplot(adata, mouse_NIA_sen_genes, \"integrated_snn_res.0.4\", dendrogram=True, cmap=\"Blues\", standard_scale=\"var\", colorbar_title=\"column scaled\\nexpression\", title = \"Integrated Tamoxifen Treated and Proliferating Control\")\n",
    "#mp_all.add_totals().style(edge_color='black').show()"
   ]
  }
 ],
 "metadata": {
  "language_info": {
   "name": "python"
  }
 },
 "nbformat": 4,
 "nbformat_minor": 2
}
